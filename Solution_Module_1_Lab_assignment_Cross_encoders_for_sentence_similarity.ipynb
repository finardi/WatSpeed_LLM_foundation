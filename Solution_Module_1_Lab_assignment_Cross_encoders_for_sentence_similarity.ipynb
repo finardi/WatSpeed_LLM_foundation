{
  "nbformat": 4,
  "nbformat_minor": 0,
  "metadata": {
    "colab": {
      "provenance": [],
      "machine_shape": "hm",
      "gpuType": "T4",
      "include_colab_link": true
    },
    "kernelspec": {
      "name": "python3",
      "display_name": "Python 3"
    },
    "language_info": {
      "name": "python"
    },
    "widgets": {
      "application/vnd.jupyter.widget-state+json": {
        "45046c68937f4e46be3d9cdaafb1d2b3": {
          "model_module": "@jupyter-widgets/controls",
          "model_name": "HBoxModel",
          "model_module_version": "1.5.0",
          "state": {
            "_dom_classes": [],
            "_model_module": "@jupyter-widgets/controls",
            "_model_module_version": "1.5.0",
            "_model_name": "HBoxModel",
            "_view_count": null,
            "_view_module": "@jupyter-widgets/controls",
            "_view_module_version": "1.5.0",
            "_view_name": "HBoxView",
            "box_style": "",
            "children": [
              "IPY_MODEL_95a32f8df7ed4c91a0bae8a497897102",
              "IPY_MODEL_fb4e7719cdb54df38b5452871d1b80df",
              "IPY_MODEL_138f82f37bee4d7a9cbb5b461bff5b26"
            ],
            "layout": "IPY_MODEL_d057d5a43db841b89200db3603a3dcb9"
          }
        },
        "95a32f8df7ed4c91a0bae8a497897102": {
          "model_module": "@jupyter-widgets/controls",
          "model_name": "HTMLModel",
          "model_module_version": "1.5.0",
          "state": {
            "_dom_classes": [],
            "_model_module": "@jupyter-widgets/controls",
            "_model_module_version": "1.5.0",
            "_model_name": "HTMLModel",
            "_view_count": null,
            "_view_module": "@jupyter-widgets/controls",
            "_view_module_version": "1.5.0",
            "_view_name": "HTMLView",
            "description": "",
            "description_tooltip": null,
            "layout": "IPY_MODEL_cee77f1d6ce140e69db522daff7ed298",
            "placeholder": "​",
            "style": "IPY_MODEL_cafc59ae24bb419a9240abda527aa91d",
            "value": "Map (num_proc=4):  13%"
          }
        },
        "fb4e7719cdb54df38b5452871d1b80df": {
          "model_module": "@jupyter-widgets/controls",
          "model_name": "FloatProgressModel",
          "model_module_version": "1.5.0",
          "state": {
            "_dom_classes": [],
            "_model_module": "@jupyter-widgets/controls",
            "_model_module_version": "1.5.0",
            "_model_name": "FloatProgressModel",
            "_view_count": null,
            "_view_module": "@jupyter-widgets/controls",
            "_view_module_version": "1.5.0",
            "_view_name": "ProgressView",
            "bar_style": "",
            "description": "",
            "description_tooltip": null,
            "layout": "IPY_MODEL_61599a79ff624620af683a7973968dea",
            "max": 1379,
            "min": 0,
            "orientation": "horizontal",
            "style": "IPY_MODEL_41e09b795cac4dc7ba21f11305f42805",
            "value": 1379
          }
        },
        "138f82f37bee4d7a9cbb5b461bff5b26": {
          "model_module": "@jupyter-widgets/controls",
          "model_name": "HTMLModel",
          "model_module_version": "1.5.0",
          "state": {
            "_dom_classes": [],
            "_model_module": "@jupyter-widgets/controls",
            "_model_module_version": "1.5.0",
            "_model_name": "HTMLModel",
            "_view_count": null,
            "_view_module": "@jupyter-widgets/controls",
            "_view_module_version": "1.5.0",
            "_view_name": "HTMLView",
            "description": "",
            "description_tooltip": null,
            "layout": "IPY_MODEL_08035425f8c54f8999409469f5ece2b7",
            "placeholder": "​",
            "style": "IPY_MODEL_cdcc00a9cf414f59a28385f79e6a433a",
            "value": " 177/1379 [00:00&lt;00:01, 942.44 examples/s]"
          }
        },
        "d057d5a43db841b89200db3603a3dcb9": {
          "model_module": "@jupyter-widgets/base",
          "model_name": "LayoutModel",
          "model_module_version": "1.2.0",
          "state": {
            "_model_module": "@jupyter-widgets/base",
            "_model_module_version": "1.2.0",
            "_model_name": "LayoutModel",
            "_view_count": null,
            "_view_module": "@jupyter-widgets/base",
            "_view_module_version": "1.2.0",
            "_view_name": "LayoutView",
            "align_content": null,
            "align_items": null,
            "align_self": null,
            "border": null,
            "bottom": null,
            "display": null,
            "flex": null,
            "flex_flow": null,
            "grid_area": null,
            "grid_auto_columns": null,
            "grid_auto_flow": null,
            "grid_auto_rows": null,
            "grid_column": null,
            "grid_gap": null,
            "grid_row": null,
            "grid_template_areas": null,
            "grid_template_columns": null,
            "grid_template_rows": null,
            "height": null,
            "justify_content": null,
            "justify_items": null,
            "left": null,
            "margin": null,
            "max_height": null,
            "max_width": null,
            "min_height": null,
            "min_width": null,
            "object_fit": null,
            "object_position": null,
            "order": null,
            "overflow": null,
            "overflow_x": null,
            "overflow_y": null,
            "padding": null,
            "right": null,
            "top": null,
            "visibility": "hidden",
            "width": null
          }
        },
        "cee77f1d6ce140e69db522daff7ed298": {
          "model_module": "@jupyter-widgets/base",
          "model_name": "LayoutModel",
          "model_module_version": "1.2.0",
          "state": {
            "_model_module": "@jupyter-widgets/base",
            "_model_module_version": "1.2.0",
            "_model_name": "LayoutModel",
            "_view_count": null,
            "_view_module": "@jupyter-widgets/base",
            "_view_module_version": "1.2.0",
            "_view_name": "LayoutView",
            "align_content": null,
            "align_items": null,
            "align_self": null,
            "border": null,
            "bottom": null,
            "display": null,
            "flex": null,
            "flex_flow": null,
            "grid_area": null,
            "grid_auto_columns": null,
            "grid_auto_flow": null,
            "grid_auto_rows": null,
            "grid_column": null,
            "grid_gap": null,
            "grid_row": null,
            "grid_template_areas": null,
            "grid_template_columns": null,
            "grid_template_rows": null,
            "height": null,
            "justify_content": null,
            "justify_items": null,
            "left": null,
            "margin": null,
            "max_height": null,
            "max_width": null,
            "min_height": null,
            "min_width": null,
            "object_fit": null,
            "object_position": null,
            "order": null,
            "overflow": null,
            "overflow_x": null,
            "overflow_y": null,
            "padding": null,
            "right": null,
            "top": null,
            "visibility": null,
            "width": null
          }
        },
        "cafc59ae24bb419a9240abda527aa91d": {
          "model_module": "@jupyter-widgets/controls",
          "model_name": "DescriptionStyleModel",
          "model_module_version": "1.5.0",
          "state": {
            "_model_module": "@jupyter-widgets/controls",
            "_model_module_version": "1.5.0",
            "_model_name": "DescriptionStyleModel",
            "_view_count": null,
            "_view_module": "@jupyter-widgets/base",
            "_view_module_version": "1.2.0",
            "_view_name": "StyleView",
            "description_width": ""
          }
        },
        "61599a79ff624620af683a7973968dea": {
          "model_module": "@jupyter-widgets/base",
          "model_name": "LayoutModel",
          "model_module_version": "1.2.0",
          "state": {
            "_model_module": "@jupyter-widgets/base",
            "_model_module_version": "1.2.0",
            "_model_name": "LayoutModel",
            "_view_count": null,
            "_view_module": "@jupyter-widgets/base",
            "_view_module_version": "1.2.0",
            "_view_name": "LayoutView",
            "align_content": null,
            "align_items": null,
            "align_self": null,
            "border": null,
            "bottom": null,
            "display": null,
            "flex": null,
            "flex_flow": null,
            "grid_area": null,
            "grid_auto_columns": null,
            "grid_auto_flow": null,
            "grid_auto_rows": null,
            "grid_column": null,
            "grid_gap": null,
            "grid_row": null,
            "grid_template_areas": null,
            "grid_template_columns": null,
            "grid_template_rows": null,
            "height": null,
            "justify_content": null,
            "justify_items": null,
            "left": null,
            "margin": null,
            "max_height": null,
            "max_width": null,
            "min_height": null,
            "min_width": null,
            "object_fit": null,
            "object_position": null,
            "order": null,
            "overflow": null,
            "overflow_x": null,
            "overflow_y": null,
            "padding": null,
            "right": null,
            "top": null,
            "visibility": null,
            "width": null
          }
        },
        "41e09b795cac4dc7ba21f11305f42805": {
          "model_module": "@jupyter-widgets/controls",
          "model_name": "ProgressStyleModel",
          "model_module_version": "1.5.0",
          "state": {
            "_model_module": "@jupyter-widgets/controls",
            "_model_module_version": "1.5.0",
            "_model_name": "ProgressStyleModel",
            "_view_count": null,
            "_view_module": "@jupyter-widgets/base",
            "_view_module_version": "1.2.0",
            "_view_name": "StyleView",
            "bar_color": null,
            "description_width": ""
          }
        },
        "08035425f8c54f8999409469f5ece2b7": {
          "model_module": "@jupyter-widgets/base",
          "model_name": "LayoutModel",
          "model_module_version": "1.2.0",
          "state": {
            "_model_module": "@jupyter-widgets/base",
            "_model_module_version": "1.2.0",
            "_model_name": "LayoutModel",
            "_view_count": null,
            "_view_module": "@jupyter-widgets/base",
            "_view_module_version": "1.2.0",
            "_view_name": "LayoutView",
            "align_content": null,
            "align_items": null,
            "align_self": null,
            "border": null,
            "bottom": null,
            "display": null,
            "flex": null,
            "flex_flow": null,
            "grid_area": null,
            "grid_auto_columns": null,
            "grid_auto_flow": null,
            "grid_auto_rows": null,
            "grid_column": null,
            "grid_gap": null,
            "grid_row": null,
            "grid_template_areas": null,
            "grid_template_columns": null,
            "grid_template_rows": null,
            "height": null,
            "justify_content": null,
            "justify_items": null,
            "left": null,
            "margin": null,
            "max_height": null,
            "max_width": null,
            "min_height": null,
            "min_width": null,
            "object_fit": null,
            "object_position": null,
            "order": null,
            "overflow": null,
            "overflow_x": null,
            "overflow_y": null,
            "padding": null,
            "right": null,
            "top": null,
            "visibility": null,
            "width": null
          }
        },
        "cdcc00a9cf414f59a28385f79e6a433a": {
          "model_module": "@jupyter-widgets/controls",
          "model_name": "DescriptionStyleModel",
          "model_module_version": "1.5.0",
          "state": {
            "_model_module": "@jupyter-widgets/controls",
            "_model_module_version": "1.5.0",
            "_model_name": "DescriptionStyleModel",
            "_view_count": null,
            "_view_module": "@jupyter-widgets/base",
            "_view_module_version": "1.2.0",
            "_view_name": "StyleView",
            "description_width": ""
          }
        },
        "fa0f24ca9a70428faecdcad490409d97": {
          "model_module": "@jupyter-widgets/controls",
          "model_name": "HBoxModel",
          "model_module_version": "1.5.0",
          "state": {
            "_dom_classes": [],
            "_model_module": "@jupyter-widgets/controls",
            "_model_module_version": "1.5.0",
            "_model_name": "HBoxModel",
            "_view_count": null,
            "_view_module": "@jupyter-widgets/controls",
            "_view_module_version": "1.5.0",
            "_view_name": "HBoxView",
            "box_style": "",
            "children": [
              "IPY_MODEL_86fc998591a0485e872c65d9131c7d78",
              "IPY_MODEL_ff3bdf2456704a2a84db0b401ecaa871",
              "IPY_MODEL_911d35ff5edd454bb7919868265e2182"
            ],
            "layout": "IPY_MODEL_3757d80cc61d4b1280c4f040afc1316a"
          }
        },
        "86fc998591a0485e872c65d9131c7d78": {
          "model_module": "@jupyter-widgets/controls",
          "model_name": "HTMLModel",
          "model_module_version": "1.5.0",
          "state": {
            "_dom_classes": [],
            "_model_module": "@jupyter-widgets/controls",
            "_model_module_version": "1.5.0",
            "_model_name": "HTMLModel",
            "_view_count": null,
            "_view_module": "@jupyter-widgets/controls",
            "_view_module_version": "1.5.0",
            "_view_name": "HTMLView",
            "description": "",
            "description_tooltip": null,
            "layout": "IPY_MODEL_874b64392de04e099675d337b3f67e96",
            "placeholder": "​",
            "style": "IPY_MODEL_81f4b30710184c8e98cc8b31aaf156ab",
            "value": "Map (num_proc=4):  25%"
          }
        },
        "ff3bdf2456704a2a84db0b401ecaa871": {
          "model_module": "@jupyter-widgets/controls",
          "model_name": "FloatProgressModel",
          "model_module_version": "1.5.0",
          "state": {
            "_dom_classes": [],
            "_model_module": "@jupyter-widgets/controls",
            "_model_module_version": "1.5.0",
            "_model_name": "FloatProgressModel",
            "_view_count": null,
            "_view_module": "@jupyter-widgets/controls",
            "_view_module_version": "1.5.0",
            "_view_name": "ProgressView",
            "bar_style": "",
            "description": "",
            "description_tooltip": null,
            "layout": "IPY_MODEL_848557190e6d4d1b94c2024235f39d93",
            "max": 1379,
            "min": 0,
            "orientation": "horizontal",
            "style": "IPY_MODEL_26014751682441d287077f4726ca50f2",
            "value": 1379
          }
        },
        "911d35ff5edd454bb7919868265e2182": {
          "model_module": "@jupyter-widgets/controls",
          "model_name": "HTMLModel",
          "model_module_version": "1.5.0",
          "state": {
            "_dom_classes": [],
            "_model_module": "@jupyter-widgets/controls",
            "_model_module_version": "1.5.0",
            "_model_name": "HTMLModel",
            "_view_count": null,
            "_view_module": "@jupyter-widgets/controls",
            "_view_module_version": "1.5.0",
            "_view_name": "HTMLView",
            "description": "",
            "description_tooltip": null,
            "layout": "IPY_MODEL_c2a9f23f1322494a9086d43467cf9f6e",
            "placeholder": "​",
            "style": "IPY_MODEL_e1206dbb22524290b01bae1ce6b513a7",
            "value": " 345/1379 [00:00&lt;00:00, 1879.15 examples/s]"
          }
        },
        "3757d80cc61d4b1280c4f040afc1316a": {
          "model_module": "@jupyter-widgets/base",
          "model_name": "LayoutModel",
          "model_module_version": "1.2.0",
          "state": {
            "_model_module": "@jupyter-widgets/base",
            "_model_module_version": "1.2.0",
            "_model_name": "LayoutModel",
            "_view_count": null,
            "_view_module": "@jupyter-widgets/base",
            "_view_module_version": "1.2.0",
            "_view_name": "LayoutView",
            "align_content": null,
            "align_items": null,
            "align_self": null,
            "border": null,
            "bottom": null,
            "display": null,
            "flex": null,
            "flex_flow": null,
            "grid_area": null,
            "grid_auto_columns": null,
            "grid_auto_flow": null,
            "grid_auto_rows": null,
            "grid_column": null,
            "grid_gap": null,
            "grid_row": null,
            "grid_template_areas": null,
            "grid_template_columns": null,
            "grid_template_rows": null,
            "height": null,
            "justify_content": null,
            "justify_items": null,
            "left": null,
            "margin": null,
            "max_height": null,
            "max_width": null,
            "min_height": null,
            "min_width": null,
            "object_fit": null,
            "object_position": null,
            "order": null,
            "overflow": null,
            "overflow_x": null,
            "overflow_y": null,
            "padding": null,
            "right": null,
            "top": null,
            "visibility": "hidden",
            "width": null
          }
        },
        "874b64392de04e099675d337b3f67e96": {
          "model_module": "@jupyter-widgets/base",
          "model_name": "LayoutModel",
          "model_module_version": "1.2.0",
          "state": {
            "_model_module": "@jupyter-widgets/base",
            "_model_module_version": "1.2.0",
            "_model_name": "LayoutModel",
            "_view_count": null,
            "_view_module": "@jupyter-widgets/base",
            "_view_module_version": "1.2.0",
            "_view_name": "LayoutView",
            "align_content": null,
            "align_items": null,
            "align_self": null,
            "border": null,
            "bottom": null,
            "display": null,
            "flex": null,
            "flex_flow": null,
            "grid_area": null,
            "grid_auto_columns": null,
            "grid_auto_flow": null,
            "grid_auto_rows": null,
            "grid_column": null,
            "grid_gap": null,
            "grid_row": null,
            "grid_template_areas": null,
            "grid_template_columns": null,
            "grid_template_rows": null,
            "height": null,
            "justify_content": null,
            "justify_items": null,
            "left": null,
            "margin": null,
            "max_height": null,
            "max_width": null,
            "min_height": null,
            "min_width": null,
            "object_fit": null,
            "object_position": null,
            "order": null,
            "overflow": null,
            "overflow_x": null,
            "overflow_y": null,
            "padding": null,
            "right": null,
            "top": null,
            "visibility": null,
            "width": null
          }
        },
        "81f4b30710184c8e98cc8b31aaf156ab": {
          "model_module": "@jupyter-widgets/controls",
          "model_name": "DescriptionStyleModel",
          "model_module_version": "1.5.0",
          "state": {
            "_model_module": "@jupyter-widgets/controls",
            "_model_module_version": "1.5.0",
            "_model_name": "DescriptionStyleModel",
            "_view_count": null,
            "_view_module": "@jupyter-widgets/base",
            "_view_module_version": "1.2.0",
            "_view_name": "StyleView",
            "description_width": ""
          }
        },
        "848557190e6d4d1b94c2024235f39d93": {
          "model_module": "@jupyter-widgets/base",
          "model_name": "LayoutModel",
          "model_module_version": "1.2.0",
          "state": {
            "_model_module": "@jupyter-widgets/base",
            "_model_module_version": "1.2.0",
            "_model_name": "LayoutModel",
            "_view_count": null,
            "_view_module": "@jupyter-widgets/base",
            "_view_module_version": "1.2.0",
            "_view_name": "LayoutView",
            "align_content": null,
            "align_items": null,
            "align_self": null,
            "border": null,
            "bottom": null,
            "display": null,
            "flex": null,
            "flex_flow": null,
            "grid_area": null,
            "grid_auto_columns": null,
            "grid_auto_flow": null,
            "grid_auto_rows": null,
            "grid_column": null,
            "grid_gap": null,
            "grid_row": null,
            "grid_template_areas": null,
            "grid_template_columns": null,
            "grid_template_rows": null,
            "height": null,
            "justify_content": null,
            "justify_items": null,
            "left": null,
            "margin": null,
            "max_height": null,
            "max_width": null,
            "min_height": null,
            "min_width": null,
            "object_fit": null,
            "object_position": null,
            "order": null,
            "overflow": null,
            "overflow_x": null,
            "overflow_y": null,
            "padding": null,
            "right": null,
            "top": null,
            "visibility": null,
            "width": null
          }
        },
        "26014751682441d287077f4726ca50f2": {
          "model_module": "@jupyter-widgets/controls",
          "model_name": "ProgressStyleModel",
          "model_module_version": "1.5.0",
          "state": {
            "_model_module": "@jupyter-widgets/controls",
            "_model_module_version": "1.5.0",
            "_model_name": "ProgressStyleModel",
            "_view_count": null,
            "_view_module": "@jupyter-widgets/base",
            "_view_module_version": "1.2.0",
            "_view_name": "StyleView",
            "bar_color": null,
            "description_width": ""
          }
        },
        "c2a9f23f1322494a9086d43467cf9f6e": {
          "model_module": "@jupyter-widgets/base",
          "model_name": "LayoutModel",
          "model_module_version": "1.2.0",
          "state": {
            "_model_module": "@jupyter-widgets/base",
            "_model_module_version": "1.2.0",
            "_model_name": "LayoutModel",
            "_view_count": null,
            "_view_module": "@jupyter-widgets/base",
            "_view_module_version": "1.2.0",
            "_view_name": "LayoutView",
            "align_content": null,
            "align_items": null,
            "align_self": null,
            "border": null,
            "bottom": null,
            "display": null,
            "flex": null,
            "flex_flow": null,
            "grid_area": null,
            "grid_auto_columns": null,
            "grid_auto_flow": null,
            "grid_auto_rows": null,
            "grid_column": null,
            "grid_gap": null,
            "grid_row": null,
            "grid_template_areas": null,
            "grid_template_columns": null,
            "grid_template_rows": null,
            "height": null,
            "justify_content": null,
            "justify_items": null,
            "left": null,
            "margin": null,
            "max_height": null,
            "max_width": null,
            "min_height": null,
            "min_width": null,
            "object_fit": null,
            "object_position": null,
            "order": null,
            "overflow": null,
            "overflow_x": null,
            "overflow_y": null,
            "padding": null,
            "right": null,
            "top": null,
            "visibility": null,
            "width": null
          }
        },
        "e1206dbb22524290b01bae1ce6b513a7": {
          "model_module": "@jupyter-widgets/controls",
          "model_name": "DescriptionStyleModel",
          "model_module_version": "1.5.0",
          "state": {
            "_model_module": "@jupyter-widgets/controls",
            "_model_module_version": "1.5.0",
            "_model_name": "DescriptionStyleModel",
            "_view_count": null,
            "_view_module": "@jupyter-widgets/base",
            "_view_module_version": "1.2.0",
            "_view_name": "StyleView",
            "description_width": ""
          }
        }
      }
    },
    "accelerator": "GPU",
    "gpuClass": "standard"
  },
  "cells": [
    {
      "cell_type": "markdown",
      "metadata": {
        "id": "view-in-github",
        "colab_type": "text"
      },
      "source": [
        "<a href=\"https://colab.research.google.com/github/finardi/WatSpeed_LLM_foundation/blob/main/Solution_Module_1_Lab_assignment_Cross_encoders_for_sentence_similarity.ipynb\" target=\"_parent\"><img src=\"https://colab.research.google.com/assets/colab-badge.svg\" alt=\"Open In Colab\"/></a>"
      ]
    },
    {
      "cell_type": "markdown",
      "source": [
        "# Module 1 - Lab assignment - Cross-encoders for sentence similarity\n",
        "\n",
        "This notebook serves as the lab assignment for the course's first module. It provides practical examples and exercises to help learners understand the concept of cross-encoders in natural language processing.\n",
        "\n",
        "This lab assignment's primary objective is to explore using cross-encoders for sentence similarity classification. This involves using pre-trained models to evaluate the semantic similarity between two sentences and predicting a score that indicates how similar they are.\n",
        "\n",
        "Cross-encoders are neural network models that are designed to encode two different sequences of text simultaneously. Unlike bi-encoders, which encode two sentences separately and then compare them, cross-encoders encode the two sentences jointly to capture their interactions better.\n",
        "\n",
        "![image.png](data:image/png;base64,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)\n",
        "\n",
        "Cross-encoders work by taking two input sentences and passing them through a shared encoder, which generates a representation for each sentence. The representations are then concatenated and passed through a classifier to predict the similarity score. The shared encoder ensures that both sentences are encoded with the same set of parameters, enabling the model to capture their interactions and relationships more accurately.\n"
      ],
      "metadata": {
        "id": "hCLMgPK3YGoI"
      }
    },
    {
      "cell_type": "markdown",
      "source": [
        "**Assignment:** search for `TODO:` in the cells and write your code to accomplish the task. Besides, there is an **Assignment** section in the end of this notebook with two questions."
      ],
      "metadata": {
        "id": "GVk38MSjZiMU"
      }
    },
    {
      "cell_type": "markdown",
      "source": [
        "# Installing required packages\n",
        "\n",
        "In this example, we have to install the **`transformers`**, **`datasets`** and **`sentence-transformers`** libraries. **`transformers`** and **`datasets`** are libraries from [Hugging Face](https://huggingface.co/), which is an AI startup that has gained significant traction in the NLP community recently. It provides a suite of open-source tools and libraries, making it easy for developers and researchers to work with state-of-the-art NLP models.\n",
        "\n",
        "**`transformers`**:\n",
        "\n",
        "Transformers is an open-source library for NLP developed by Hugging Face. It provides state-of-the-art pre-trained models for various NLP tasks, such as text classification, sentiment analysis, question-answering, named entity recognition, etc. The library is built on top of PyTorch and TensorFlow and provides easy-to-use interfaces to access pre-trained models and fine-tune them on specific tasks. The library also provides tools for training custom models and sharing them with the community.\n",
        "\n",
        "**`datasets`**:\n",
        "\n",
        "Datasets is another open-source library developed by Hugging Face that provides a collection of preprocessed datasets for various NLP tasks, such as sentiment analysis, natural language inference, machine translation, and many more. The library provides a unified API to access these datasets, making it easy to load, process, and analyze them.\n",
        "\n",
        "**`sentence-transformers`**:\n",
        "\n",
        "The [sentence-transformers](https://www.sbert.net/index.html) library is an open-source Python package that provides state-of-the-art models for computing sentence embeddings, which are vector representations of sentences in a high-dimensional space. This library is a powerful tool for cross-encoder semantic text similarity classification. It provides pre-trained models for a variety of natural language processing tasks, including sentence similarity classification."
      ],
      "metadata": {
        "id": "4mZmFPuCZn9S"
      }
    },
    {
      "cell_type": "code",
      "execution_count": null,
      "metadata": {
        "id": "9Ii8krQPLab5"
      },
      "outputs": [],
      "source": [
        "!pip install -q transformers datasets sentence-transformers"
      ]
    },
    {
      "cell_type": "markdown",
      "source": [
        "# Download dataset\n",
        "\n",
        "The SemEval Semantic Textual Similarity (STS) dataset is a benchmark dataset for evaluating the performance of algorithms that measure the degree of semantic similarity between two pieces of text. The dataset is composed of sentence pairs, and each pair is assigned a similarity score by human annotators, ranging from 0 to 5. The dataset has been used in several research studies to develop and evaluate models for sentence similarity classification.\n",
        "\n",
        "The code above loads the STS dataset using the Hugging Face **`datasets`** library and creates a Pandas DataFrame to store the data. The **`load_dataset()`** function takes two arguments: the name of the dataset ('`stsb_multi_mt`') and the language ('`en`'). The split parameter is set to '`test`', which means that only the test portion of the dataset will be loaded. The function returns a dictionary-like Dataset object"
      ],
      "metadata": {
        "id": "Ge9YQbklXYVv"
      }
    },
    {
      "cell_type": "code",
      "source": [
        "from datasets import load_dataset\n",
        "\n",
        "test_dataset = load_dataset('stsb_multi_mt', 'en', split='test')"
      ],
      "metadata": {
        "colab": {
          "base_uri": "https://localhost:8080/"
        },
        "id": "TkKdiRIZX2rp",
        "outputId": "1c955ffc-1868-4e29-99a6-bf4f82021f28"
      },
      "execution_count": 1,
      "outputs": [
        {
          "output_type": "stream",
          "name": "stderr",
          "text": [
            "WARNING:datasets.builder:Found cached dataset stsb_multi_mt (/root/.cache/huggingface/datasets/stsb_multi_mt/en/1.0.0/a5d260e4b7aa82d1ab7379523a005a366d9b124c76a5a5cf0c4c5365458b0ba9)\n"
          ]
        }
      ]
    },
    {
      "cell_type": "markdown",
      "source": [
        "The code below converts the test dataset obtained from the **`load_dataset`** function of the **`datasets`** library into a pandas DataFrame. The **`pd.DataFrame()`** function from the pandas library is used to create the **`DataFrame`**. \n",
        "\n",
        "The **`head()`** function is used to display the first few rows of a pandas dataframe. The dataframe has three columns: **`sentence1`**, **`sentence2`**, and **`similarity_score`**, which contain the two sentences to be compared and the similarity score assigned by human annotators.\n",
        "\n"
      ],
      "metadata": {
        "id": "UvmskA4RnIN_"
      }
    },
    {
      "cell_type": "code",
      "source": [
        "import pandas as pd\n",
        "test_dataset_df = pd.DataFrame(test_dataset)\n",
        "test_dataset_df.head()"
      ],
      "metadata": {
        "colab": {
          "base_uri": "https://localhost:8080/",
          "height": 206
        },
        "id": "pLX-0I0hnHMm",
        "outputId": "acd9dcff-8d2a-44a1-b66a-3be863a1411d"
      },
      "execution_count": 7,
      "outputs": [
        {
          "output_type": "execute_result",
          "data": {
            "text/plain": [
              "                                       sentence1  \\\n",
              "0                    A girl is styling her hair.   \n",
              "1       A group of men play soccer on the beach.   \n",
              "2  One woman is measuring another woman's ankle.   \n",
              "3                A man is cutting up a cucumber.   \n",
              "4                       A man is playing a harp.   \n",
              "\n",
              "                                          sentence2  similarity_score  \n",
              "0                      A girl is brushing her hair.               2.5  \n",
              "1  A group of boys are playing soccer on the beach.               3.6  \n",
              "2           A woman measures another woman's ankle.               5.0  \n",
              "3                      A man is slicing a cucumber.               4.2  \n",
              "4                      A man is playing a keyboard.               1.5  "
            ],
            "text/html": [
              "\n",
              "  <div id=\"df-49674e27-3445-49bd-a6c8-a6599db20af8\">\n",
              "    <div class=\"colab-df-container\">\n",
              "      <div>\n",
              "<style scoped>\n",
              "    .dataframe tbody tr th:only-of-type {\n",
              "        vertical-align: middle;\n",
              "    }\n",
              "\n",
              "    .dataframe tbody tr th {\n",
              "        vertical-align: top;\n",
              "    }\n",
              "\n",
              "    .dataframe thead th {\n",
              "        text-align: right;\n",
              "    }\n",
              "</style>\n",
              "<table border=\"1\" class=\"dataframe\">\n",
              "  <thead>\n",
              "    <tr style=\"text-align: right;\">\n",
              "      <th></th>\n",
              "      <th>sentence1</th>\n",
              "      <th>sentence2</th>\n",
              "      <th>similarity_score</th>\n",
              "    </tr>\n",
              "  </thead>\n",
              "  <tbody>\n",
              "    <tr>\n",
              "      <th>0</th>\n",
              "      <td>A girl is styling her hair.</td>\n",
              "      <td>A girl is brushing her hair.</td>\n",
              "      <td>2.5</td>\n",
              "    </tr>\n",
              "    <tr>\n",
              "      <th>1</th>\n",
              "      <td>A group of men play soccer on the beach.</td>\n",
              "      <td>A group of boys are playing soccer on the beach.</td>\n",
              "      <td>3.6</td>\n",
              "    </tr>\n",
              "    <tr>\n",
              "      <th>2</th>\n",
              "      <td>One woman is measuring another woman's ankle.</td>\n",
              "      <td>A woman measures another woman's ankle.</td>\n",
              "      <td>5.0</td>\n",
              "    </tr>\n",
              "    <tr>\n",
              "      <th>3</th>\n",
              "      <td>A man is cutting up a cucumber.</td>\n",
              "      <td>A man is slicing a cucumber.</td>\n",
              "      <td>4.2</td>\n",
              "    </tr>\n",
              "    <tr>\n",
              "      <th>4</th>\n",
              "      <td>A man is playing a harp.</td>\n",
              "      <td>A man is playing a keyboard.</td>\n",
              "      <td>1.5</td>\n",
              "    </tr>\n",
              "  </tbody>\n",
              "</table>\n",
              "</div>\n",
              "      <button class=\"colab-df-convert\" onclick=\"convertToInteractive('df-49674e27-3445-49bd-a6c8-a6599db20af8')\"\n",
              "              title=\"Convert this dataframe to an interactive table.\"\n",
              "              style=\"display:none;\">\n",
              "        \n",
              "  <svg xmlns=\"http://www.w3.org/2000/svg\" height=\"24px\"viewBox=\"0 0 24 24\"\n",
              "       width=\"24px\">\n",
              "    <path d=\"M0 0h24v24H0V0z\" fill=\"none\"/>\n",
              "    <path d=\"M18.56 5.44l.94 2.06.94-2.06 2.06-.94-2.06-.94-.94-2.06-.94 2.06-2.06.94zm-11 1L8.5 8.5l.94-2.06 2.06-.94-2.06-.94L8.5 2.5l-.94 2.06-2.06.94zm10 10l.94 2.06.94-2.06 2.06-.94-2.06-.94-.94-2.06-.94 2.06-2.06.94z\"/><path d=\"M17.41 7.96l-1.37-1.37c-.4-.4-.92-.59-1.43-.59-.52 0-1.04.2-1.43.59L10.3 9.45l-7.72 7.72c-.78.78-.78 2.05 0 2.83L4 21.41c.39.39.9.59 1.41.59.51 0 1.02-.2 1.41-.59l7.78-7.78 2.81-2.81c.8-.78.8-2.07 0-2.86zM5.41 20L4 18.59l7.72-7.72 1.47 1.35L5.41 20z\"/>\n",
              "  </svg>\n",
              "      </button>\n",
              "      \n",
              "  <style>\n",
              "    .colab-df-container {\n",
              "      display:flex;\n",
              "      flex-wrap:wrap;\n",
              "      gap: 12px;\n",
              "    }\n",
              "\n",
              "    .colab-df-convert {\n",
              "      background-color: #E8F0FE;\n",
              "      border: none;\n",
              "      border-radius: 50%;\n",
              "      cursor: pointer;\n",
              "      display: none;\n",
              "      fill: #1967D2;\n",
              "      height: 32px;\n",
              "      padding: 0 0 0 0;\n",
              "      width: 32px;\n",
              "    }\n",
              "\n",
              "    .colab-df-convert:hover {\n",
              "      background-color: #E2EBFA;\n",
              "      box-shadow: 0px 1px 2px rgba(60, 64, 67, 0.3), 0px 1px 3px 1px rgba(60, 64, 67, 0.15);\n",
              "      fill: #174EA6;\n",
              "    }\n",
              "\n",
              "    [theme=dark] .colab-df-convert {\n",
              "      background-color: #3B4455;\n",
              "      fill: #D2E3FC;\n",
              "    }\n",
              "\n",
              "    [theme=dark] .colab-df-convert:hover {\n",
              "      background-color: #434B5C;\n",
              "      box-shadow: 0px 1px 3px 1px rgba(0, 0, 0, 0.15);\n",
              "      filter: drop-shadow(0px 1px 2px rgba(0, 0, 0, 0.3));\n",
              "      fill: #FFFFFF;\n",
              "    }\n",
              "  </style>\n",
              "\n",
              "      <script>\n",
              "        const buttonEl =\n",
              "          document.querySelector('#df-49674e27-3445-49bd-a6c8-a6599db20af8 button.colab-df-convert');\n",
              "        buttonEl.style.display =\n",
              "          google.colab.kernel.accessAllowed ? 'block' : 'none';\n",
              "\n",
              "        async function convertToInteractive(key) {\n",
              "          const element = document.querySelector('#df-49674e27-3445-49bd-a6c8-a6599db20af8');\n",
              "          const dataTable =\n",
              "            await google.colab.kernel.invokeFunction('convertToInteractive',\n",
              "                                                     [key], {});\n",
              "          if (!dataTable) return;\n",
              "\n",
              "          const docLinkHtml = 'Like what you see? Visit the ' +\n",
              "            '<a target=\"_blank\" href=https://colab.research.google.com/notebooks/data_table.ipynb>data table notebook</a>'\n",
              "            + ' to learn more about interactive tables.';\n",
              "          element.innerHTML = '';\n",
              "          dataTable['output_type'] = 'display_data';\n",
              "          await google.colab.output.renderOutput(dataTable, element);\n",
              "          const docLink = document.createElement('div');\n",
              "          docLink.innerHTML = docLinkHtml;\n",
              "          element.appendChild(docLink);\n",
              "        }\n",
              "      </script>\n",
              "    </div>\n",
              "  </div>\n",
              "  "
            ]
          },
          "metadata": {},
          "execution_count": 7
        }
      ]
    },
    {
      "cell_type": "markdown",
      "source": [
        "# Model Evaluation\n",
        "\n",
        "\n",
        "In this section, we will perform the model evaluation. We will use two different methods for evaluating the models: the first method involves using the CrossEncoder class from **`sentence-transformers`** library, while the second method involves using the HF **`transformers`** library. \n",
        "\n",
        "The evaluation process for our semantic text similarity model involves measuring the Spearman correlation between the model scores and the human scores. "
      ],
      "metadata": {
        "id": "ancZ500CYcEa"
      }
    },
    {
      "cell_type": "markdown",
      "source": [
        "## Selecting the Model\n",
        "\n",
        "We will use a RoBERTa model fine-tuned on the STS task. RoBERTa is a pre-trained neural network architecture developed by Facebook AI Research, which uses a modified version of BERT's pre-training process. The key difference between RoBERTa and BERT is that the former is trained on more data and with more extensive training objectives. RoBERTa has achieved state-of-the-art performance on a variety of natural language processing tasks, including sentiment analysis, question answering, and textual entailment.\n",
        "\n",
        "The RoBERTa model fine-tuned on STS can be found on Hugging Face ([**`cross-encoder/stsb-roberta-base`**](https://huggingface.co/cross-encoder/stsb-roberta-base)). In addition to the RoBERTa model, Hugging Face also provides access to other cross-encoder models fine-tuned on STS ([see](https://huggingface.co/cross-encoder))."
      ],
      "metadata": {
        "id": "9XmneQdGpDib"
      }
    },
    {
      "cell_type": "code",
      "source": [
        "MODEL_NAME = 'cross-encoder/stsb-roberta-base' # change the model name if you want to try different models."
      ],
      "metadata": {
        "id": "hiUrQ5U0pHpM"
      },
      "execution_count": 8,
      "outputs": []
    },
    {
      "cell_type": "markdown",
      "source": [
        "## Using `sentence-transformers`\n",
        "\n",
        "The **`CrossEncoder`** class from **`sentence-transformers`** is a user-friendly tool that simplifies the process of performing cross-encoder tasks such as semantic text similarity. This class provides a simple and straightforward API that abstracts away many of the details of the underlying processes, such as **tokenization**, **encoding**, and **scoring**, making it easy for users to perform text similarity tasks. \n",
        "\n",
        "Additionally, the **`CrossEncoder`** class includes a variety of pre-trained models for users to choose from, allowing them to quickly and easily experiment with different models and find the one that best suits their needs.\n",
        "\n",
        "The code below loads the model using the **`CrossEncoder`** class.\n"
      ],
      "metadata": {
        "id": "90ba7M4fcVey"
      }
    },
    {
      "cell_type": "code",
      "source": [
        "from sentence_transformers.cross_encoder import CrossEncoder\n",
        "\n",
        "model = CrossEncoder(MODEL_NAME)"
      ],
      "metadata": {
        "id": "njChwmSEYZzf"
      },
      "execution_count": 9,
      "outputs": []
    },
    {
      "cell_type": "markdown",
      "source": [
        "The code below is used to predict the similarity scores for the test dataset using a pre-trained cross-encoder model from the sentence-transformers library. \n",
        "\n",
        "First, we select the columns \"**sentence1**\" and \"**sentence2**\" from the test dataset and assigns them to the variable \"sentence_pairs\". \n",
        "\n",
        "Then, the pre-trained model is used to predict the similarity scores for the sentence pairs. The **`predict()`** function of the cross-encoder model takes in a list of sentence pairs and returns a list of similarity scores. The predicted similarity scores are then assigned to the variable \"similarity_scores\".\n",
        "\n",
        "Finally, the predicted similarity scores are added to the test dataset by creating a new column called \"predicted_score\" and assigning the similarity scores to this column using the pandas dataframe."
      ],
      "metadata": {
        "id": "HSNyFzjNtTJX"
      }
    },
    {
      "cell_type": "code",
      "source": [
        "sentence_pairs = test_dataset_df[[\"sentence1\", \"sentence2\"]].values\n",
        "similarity_scores = model.predict(sentence_pairs)\n",
        "test_dataset_df[\"predicted_score\"] = similarity_scores"
      ],
      "metadata": {
        "id": "I6uxZTkMas-H"
      },
      "execution_count": 10,
      "outputs": []
    },
    {
      "cell_type": "markdown",
      "source": [
        "The cell below computes the Spearman's rank correlation coefficient between the \"`similarity_score`\" and \"`predicted_score`\" columns of the test dataset dataframe.\n",
        "\n",
        "The [Spearman's rank correlation coefficient](https://en.wikipedia.org/wiki/Spearman%27s_rank_correlation_coefficient) is a statistical measure that measures the strength and direction of association between two variables. In the context of the STS task, it measures the correlation between the predicted similarity scores produced by the model and the human-labeled similarity scores in the test dataset. \n",
        "\n",
        "The Spearman's rank correlation coefficient ranges from -1 to 1, where a value of 1 indicates a perfect positive correlation, 0 indicates no correlation, and -1 indicates a perfect negative correlation. Therefore, a higher Spearman's rank correlation coefficient value indicates that the model predictions are closer to the human scores, which is a good indicator of model performance.\n",
        "\n",
        "The Spearman's rank correlation coefficient can be represented using the following equation:\n",
        "\n",
        "\\begin{equation}\n",
        "r_s = 1 - \\frac{6\\sum d_i^2}{n(n^2-1)}\n",
        "\\end{equation}\n",
        "\n",
        "where $r_s$ is the Spearman's rank correlation coefficient, $d_i$ is the difference between the ranks of the corresponding values in the two variables, and $n$ is the number of observations. The number 6 is a constant that is used to normalize the coefficient. It makes the coefficient fall within the range of -1 to +1.\n"
      ],
      "metadata": {
        "id": "Zkk0jXoAteDx"
      }
    },
    {
      "cell_type": "code",
      "source": [
        "test_dataset_df[[\"similarity_score\",\"predicted_score\"]].corr(method=\"spearman\")"
      ],
      "metadata": {
        "colab": {
          "base_uri": "https://localhost:8080/",
          "height": 112
        },
        "id": "a9U7m2BobwQa",
        "outputId": "d012c9d0-8135-4bf8-eeca-bdc0b7a99baf"
      },
      "execution_count": 11,
      "outputs": [
        {
          "output_type": "execute_result",
          "data": {
            "text/plain": [
              "                  similarity_score  predicted_score\n",
              "similarity_score          1.000000         0.901726\n",
              "predicted_score           0.901726         1.000000"
            ],
            "text/html": [
              "\n",
              "  <div id=\"df-a008d6ad-ff08-4442-bb7f-6e4baa727d47\">\n",
              "    <div class=\"colab-df-container\">\n",
              "      <div>\n",
              "<style scoped>\n",
              "    .dataframe tbody tr th:only-of-type {\n",
              "        vertical-align: middle;\n",
              "    }\n",
              "\n",
              "    .dataframe tbody tr th {\n",
              "        vertical-align: top;\n",
              "    }\n",
              "\n",
              "    .dataframe thead th {\n",
              "        text-align: right;\n",
              "    }\n",
              "</style>\n",
              "<table border=\"1\" class=\"dataframe\">\n",
              "  <thead>\n",
              "    <tr style=\"text-align: right;\">\n",
              "      <th></th>\n",
              "      <th>similarity_score</th>\n",
              "      <th>predicted_score</th>\n",
              "    </tr>\n",
              "  </thead>\n",
              "  <tbody>\n",
              "    <tr>\n",
              "      <th>similarity_score</th>\n",
              "      <td>1.000000</td>\n",
              "      <td>0.901726</td>\n",
              "    </tr>\n",
              "    <tr>\n",
              "      <th>predicted_score</th>\n",
              "      <td>0.901726</td>\n",
              "      <td>1.000000</td>\n",
              "    </tr>\n",
              "  </tbody>\n",
              "</table>\n",
              "</div>\n",
              "      <button class=\"colab-df-convert\" onclick=\"convertToInteractive('df-a008d6ad-ff08-4442-bb7f-6e4baa727d47')\"\n",
              "              title=\"Convert this dataframe to an interactive table.\"\n",
              "              style=\"display:none;\">\n",
              "        \n",
              "  <svg xmlns=\"http://www.w3.org/2000/svg\" height=\"24px\"viewBox=\"0 0 24 24\"\n",
              "       width=\"24px\">\n",
              "    <path d=\"M0 0h24v24H0V0z\" fill=\"none\"/>\n",
              "    <path d=\"M18.56 5.44l.94 2.06.94-2.06 2.06-.94-2.06-.94-.94-2.06-.94 2.06-2.06.94zm-11 1L8.5 8.5l.94-2.06 2.06-.94-2.06-.94L8.5 2.5l-.94 2.06-2.06.94zm10 10l.94 2.06.94-2.06 2.06-.94-2.06-.94-.94-2.06-.94 2.06-2.06.94z\"/><path d=\"M17.41 7.96l-1.37-1.37c-.4-.4-.92-.59-1.43-.59-.52 0-1.04.2-1.43.59L10.3 9.45l-7.72 7.72c-.78.78-.78 2.05 0 2.83L4 21.41c.39.39.9.59 1.41.59.51 0 1.02-.2 1.41-.59l7.78-7.78 2.81-2.81c.8-.78.8-2.07 0-2.86zM5.41 20L4 18.59l7.72-7.72 1.47 1.35L5.41 20z\"/>\n",
              "  </svg>\n",
              "      </button>\n",
              "      \n",
              "  <style>\n",
              "    .colab-df-container {\n",
              "      display:flex;\n",
              "      flex-wrap:wrap;\n",
              "      gap: 12px;\n",
              "    }\n",
              "\n",
              "    .colab-df-convert {\n",
              "      background-color: #E8F0FE;\n",
              "      border: none;\n",
              "      border-radius: 50%;\n",
              "      cursor: pointer;\n",
              "      display: none;\n",
              "      fill: #1967D2;\n",
              "      height: 32px;\n",
              "      padding: 0 0 0 0;\n",
              "      width: 32px;\n",
              "    }\n",
              "\n",
              "    .colab-df-convert:hover {\n",
              "      background-color: #E2EBFA;\n",
              "      box-shadow: 0px 1px 2px rgba(60, 64, 67, 0.3), 0px 1px 3px 1px rgba(60, 64, 67, 0.15);\n",
              "      fill: #174EA6;\n",
              "    }\n",
              "\n",
              "    [theme=dark] .colab-df-convert {\n",
              "      background-color: #3B4455;\n",
              "      fill: #D2E3FC;\n",
              "    }\n",
              "\n",
              "    [theme=dark] .colab-df-convert:hover {\n",
              "      background-color: #434B5C;\n",
              "      box-shadow: 0px 1px 3px 1px rgba(0, 0, 0, 0.15);\n",
              "      filter: drop-shadow(0px 1px 2px rgba(0, 0, 0, 0.3));\n",
              "      fill: #FFFFFF;\n",
              "    }\n",
              "  </style>\n",
              "\n",
              "      <script>\n",
              "        const buttonEl =\n",
              "          document.querySelector('#df-a008d6ad-ff08-4442-bb7f-6e4baa727d47 button.colab-df-convert');\n",
              "        buttonEl.style.display =\n",
              "          google.colab.kernel.accessAllowed ? 'block' : 'none';\n",
              "\n",
              "        async function convertToInteractive(key) {\n",
              "          const element = document.querySelector('#df-a008d6ad-ff08-4442-bb7f-6e4baa727d47');\n",
              "          const dataTable =\n",
              "            await google.colab.kernel.invokeFunction('convertToInteractive',\n",
              "                                                     [key], {});\n",
              "          if (!dataTable) return;\n",
              "\n",
              "          const docLinkHtml = 'Like what you see? Visit the ' +\n",
              "            '<a target=\"_blank\" href=https://colab.research.google.com/notebooks/data_table.ipynb>data table notebook</a>'\n",
              "            + ' to learn more about interactive tables.';\n",
              "          element.innerHTML = '';\n",
              "          dataTable['output_type'] = 'display_data';\n",
              "          await google.colab.output.renderOutput(dataTable, element);\n",
              "          const docLink = document.createElement('div');\n",
              "          docLink.innerHTML = docLinkHtml;\n",
              "          element.appendChild(docLink);\n",
              "        }\n",
              "      </script>\n",
              "    </div>\n",
              "  </div>\n",
              "  "
            ]
          },
          "metadata": {},
          "execution_count": 11
        }
      ]
    },
    {
      "cell_type": "markdown",
      "source": [
        "## Using Hugging Face `transformers`\n",
        "\n",
        "For using the Hugging Face transformers for cross encoder semantic text similarity, you need to first load the pre-trained model and its tokenizer using the **`AutoModelForSequenceClassification`** and **`AutoTokenizer`** classes, respectively. \n"
      ],
      "metadata": {
        "id": "9AMLV74dh827"
      }
    },
    {
      "cell_type": "code",
      "source": [
        "# TODO\n",
        "from transformers import AutoModelForSequenceClassification, AutoTokenizer\n",
        "\n",
        "tokenizer_hf = AutoTokenizer.from_pretrained(MODEL_NAME)\n",
        "model_hf = AutoModelForSequenceClassification.from_pretrained(MODEL_NAME).cuda()"
      ],
      "metadata": {
        "id": "QUiFHiafgPhD"
      },
      "execution_count": 12,
      "outputs": []
    },
    {
      "cell_type": "markdown",
      "source": [
        "Once the model and tokenizer are loaded, you can tokenize the input sentences using the tokenizer and create a tensor of features that can be fed into the model. Once the model and tokenizer are loaded, you can tokenize the input sentences using the tokenizer and create a tensor of features that can be fed into the model.\n"
      ],
      "metadata": {
        "id": "vQn9OObquxK2"
      }
    },
    {
      "cell_type": "code",
      "source": [
        "# Lets check sentence-transformers tokenization \n",
        "check_sent_transformers = model.tokenizer.encode(sentence_pairs[0])\n",
        "print(check_sent_transformers)\n",
        "\n",
        "# detokenize with huggingface tokenizer\n",
        "tokenizer_hf.decode(check_sent_transformers)"
      ],
      "metadata": {
        "colab": {
          "base_uri": "https://localhost:8080/",
          "height": 53
        },
        "id": "Bian88_KRxOU",
        "outputId": "b18509a0-3506-41cf-9d4f-86e0a722269a"
      },
      "execution_count": 13,
      "outputs": [
        {
          "output_type": "stream",
          "name": "stdout",
          "text": [
            "[0, 250, 1816, 16, 23256, 69, 2549, 4, 2, 2, 250, 1816, 16, 32669, 69, 2549, 4, 2]\n"
          ]
        },
        {
          "output_type": "execute_result",
          "data": {
            "text/plain": [
              "'<s>A girl is styling her hair.</s></s>A girl is brushing her hair.</s>'"
            ],
            "application/vnd.google.colaboratory.intrinsic+json": {
              "type": "string"
            }
          },
          "metadata": {},
          "execution_count": 13
        }
      ]
    },
    {
      "cell_type": "code",
      "source": [
        "import os \n",
        "\n",
        "def create_sentence_pairs(text):\n",
        "    # lets add 2 times eos tokens (mimic sentence-transformers)\n",
        "    text[\"sentence_pairs\"] = text[\"sentence1\"] + tokenizer_hf.eos_token + tokenizer_hf.eos_token + text[\"sentence2\"]\n",
        "    return text\n",
        "\n",
        "test_dataset = test_dataset.map(create_sentence_pairs, batched=False, num_proc=os.cpu_count())\n",
        "\n",
        "# checking\n",
        "test_dataset['sentence_pairs'][0], test_dataset"
      ],
      "metadata": {
        "colab": {
          "base_uri": "https://localhost:8080/",
          "height": 104,
          "referenced_widgets": [
            "45046c68937f4e46be3d9cdaafb1d2b3",
            "95a32f8df7ed4c91a0bae8a497897102",
            "fb4e7719cdb54df38b5452871d1b80df",
            "138f82f37bee4d7a9cbb5b461bff5b26",
            "d057d5a43db841b89200db3603a3dcb9",
            "cee77f1d6ce140e69db522daff7ed298",
            "cafc59ae24bb419a9240abda527aa91d",
            "61599a79ff624620af683a7973968dea",
            "41e09b795cac4dc7ba21f11305f42805",
            "08035425f8c54f8999409469f5ece2b7",
            "cdcc00a9cf414f59a28385f79e6a433a"
          ]
        },
        "id": "kEevjbDNKaRt",
        "outputId": "7c8a48af-fd3b-4e63-d305-643380b77f6b"
      },
      "execution_count": 15,
      "outputs": [
        {
          "output_type": "display_data",
          "data": {
            "text/plain": [
              "Map (num_proc=4):   0%|          | 0/1379 [00:00<?, ? examples/s]"
            ],
            "application/vnd.jupyter.widget-view+json": {
              "version_major": 2,
              "version_minor": 0,
              "model_id": "45046c68937f4e46be3d9cdaafb1d2b3"
            }
          },
          "metadata": {}
        },
        {
          "output_type": "execute_result",
          "data": {
            "text/plain": [
              "('A girl is styling her hair.</s></s>A girl is brushing her hair.',\n",
              " Dataset({\n",
              "     features: ['sentence1', 'sentence2', 'similarity_score', 'sentence_pairs'],\n",
              "     num_rows: 1379\n",
              " }))"
            ]
          },
          "metadata": {},
          "execution_count": 15
        }
      ]
    },
    {
      "cell_type": "code",
      "source": [
        "# TODO\n",
        "\n",
        "tokenized_data = test_dataset.map(\n",
        "    lambda x: tokenizer_hf(\n",
        "        x[\"sentence_pairs\"], \n",
        "        truncation=False), \n",
        "    batched=True,\n",
        "    num_proc=os.cpu_count(),\n",
        ")\n",
        "\n",
        "tokenized_data.set_format(type='torch', columns=['input_ids'])\n",
        "\n",
        "tokenized_data"
      ],
      "metadata": {
        "id": "0xPZ5-Teu_lt",
        "colab": {
          "base_uri": "https://localhost:8080/",
          "height": 86,
          "referenced_widgets": [
            "fa0f24ca9a70428faecdcad490409d97",
            "86fc998591a0485e872c65d9131c7d78",
            "ff3bdf2456704a2a84db0b401ecaa871",
            "911d35ff5edd454bb7919868265e2182",
            "3757d80cc61d4b1280c4f040afc1316a",
            "874b64392de04e099675d337b3f67e96",
            "81f4b30710184c8e98cc8b31aaf156ab",
            "848557190e6d4d1b94c2024235f39d93",
            "26014751682441d287077f4726ca50f2",
            "c2a9f23f1322494a9086d43467cf9f6e",
            "e1206dbb22524290b01bae1ce6b513a7"
          ]
        },
        "outputId": "417227d2-9f57-4d4e-c24e-b6487b2f964e"
      },
      "execution_count": 16,
      "outputs": [
        {
          "output_type": "display_data",
          "data": {
            "text/plain": [
              "Map (num_proc=4):   0%|          | 0/1379 [00:00<?, ? examples/s]"
            ],
            "application/vnd.jupyter.widget-view+json": {
              "version_major": 2,
              "version_minor": 0,
              "model_id": "fa0f24ca9a70428faecdcad490409d97"
            }
          },
          "metadata": {}
        },
        {
          "output_type": "execute_result",
          "data": {
            "text/plain": [
              "Dataset({\n",
              "    features: ['sentence1', 'sentence2', 'similarity_score', 'sentence_pairs', 'input_ids', 'attention_mask'],\n",
              "    num_rows: 1379\n",
              "})"
            ]
          },
          "metadata": {},
          "execution_count": 16
        }
      ]
    },
    {
      "cell_type": "markdown",
      "source": [
        "After that, the features can be passed to the model object to predict the similarity score for each sentence pair by calling the logits method on the model and passing the features tensor as input."
      ],
      "metadata": {
        "id": "RSiIIW5Du90K"
      }
    },
    {
      "cell_type": "code",
      "source": [
        "# TODO\n",
        "preidct_score_hf = [model_hf(e.cuda().unsqueeze(0)).logits.item() for e in tokenized_data['input_ids']]"
      ],
      "metadata": {
        "id": "h7N54d2jvB_Q"
      },
      "execution_count": 17,
      "outputs": []
    },
    {
      "cell_type": "markdown",
      "source": [
        "The next step is to apply an activation function to obtain the final similarity scores. \n",
        "\n",
        "You must import the activation function from PyTorch library with **`from torch import nn`**. Look at the [non-linear PyTorch activation functions set](https://pytorch.org/docs/stable/nn.html#non-linear-activations-weighted-sum-nonlinearity) and choose the most adequate to this task. Look for one that maps input values to a range between 0 and 1, is smooth and continuous, has a well-defined derivative, and may be symmetric around zero.\n",
        "\n",
        "Finally, you have to apply the activation function to the logits to get the final scores. Then, store the predicted scores in a new column of the **`test_dataset_df`**."
      ],
      "metadata": {
        "id": "V2b2H6FJv87a"
      }
    },
    {
      "cell_type": "code",
      "source": [
        "# TODO\n",
        "\n",
        "# checking sentence-transformers act\n",
        "print(f\"checking sentence-transformers act: {model.default_activation_function}\")\n",
        "\n",
        "import torch\n",
        "m = torch.nn.Sigmoid()\n",
        "\n",
        "test_dataset_df['predicted_score_HF'] = [m(torch.tensor(e)).item() for e in preidct_score_hf]\n",
        "test_dataset_df"
      ],
      "metadata": {
        "colab": {
          "base_uri": "https://localhost:8080/",
          "height": 441
        },
        "id": "pCn7A2dfFfHI",
        "outputId": "8962978e-008e-4fb2-8beb-5f169088beea"
      },
      "execution_count": 18,
      "outputs": [
        {
          "output_type": "stream",
          "name": "stdout",
          "text": [
            "checking sentence-transformers act: Sigmoid()\n"
          ]
        },
        {
          "output_type": "execute_result",
          "data": {
            "text/plain": [
              "                                              sentence1  \\\n",
              "0                           A girl is styling her hair.   \n",
              "1              A group of men play soccer on the beach.   \n",
              "2         One woman is measuring another woman's ankle.   \n",
              "3                       A man is cutting up a cucumber.   \n",
              "4                              A man is playing a harp.   \n",
              "...                                                 ...   \n",
              "1374  Philippines, Canada pledge to further boost re...   \n",
              "1375  Israel bars Palestinians from Jerusalem's Old ...   \n",
              "1376         How much do you know about Secret Service?   \n",
              "1377  Obama Struggles to Soothe Saudi Fears As Iran ...   \n",
              "1378          South Korea declares end to MERS outbreak   \n",
              "\n",
              "                                              sentence2  similarity_score  \\\n",
              "0                          A girl is brushing her hair.               2.5   \n",
              "1      A group of boys are playing soccer on the beach.               3.6   \n",
              "2               A woman measures another woman's ankle.               5.0   \n",
              "3                          A man is slicing a cucumber.               4.2   \n",
              "4                          A man is playing a keyboard.               1.5   \n",
              "...                                                 ...               ...   \n",
              "1374            Philippines saves 100 after ferry sinks               0.0   \n",
              "1375  Two-state solution between Palestinians, Israe...               1.0   \n",
              "1376  Lawmakers from both sides express outrage at S...               1.0   \n",
              "1377  Myanmar Struggles to Finalize Voter Lists for ...               0.0   \n",
              "1378  North Korea Delegation Meets With South Korean...               0.0   \n",
              "\n",
              "      predicted_score  predicted_score_HF  \n",
              "0            0.477538            0.477538  \n",
              "1            0.837391            0.837391  \n",
              "2            0.996481            0.996481  \n",
              "3            0.955392            0.955392  \n",
              "4            0.311554            0.311554  \n",
              "...               ...                 ...  \n",
              "1374         0.186894            0.186894  \n",
              "1375         0.105753            0.105753  \n",
              "1376         0.224270            0.224270  \n",
              "1377         0.002297            0.002297  \n",
              "1378         0.119692            0.119692  \n",
              "\n",
              "[1379 rows x 5 columns]"
            ],
            "text/html": [
              "\n",
              "  <div id=\"df-7a56a0dd-3b5b-4335-9e27-57ab1e23cefe\">\n",
              "    <div class=\"colab-df-container\">\n",
              "      <div>\n",
              "<style scoped>\n",
              "    .dataframe tbody tr th:only-of-type {\n",
              "        vertical-align: middle;\n",
              "    }\n",
              "\n",
              "    .dataframe tbody tr th {\n",
              "        vertical-align: top;\n",
              "    }\n",
              "\n",
              "    .dataframe thead th {\n",
              "        text-align: right;\n",
              "    }\n",
              "</style>\n",
              "<table border=\"1\" class=\"dataframe\">\n",
              "  <thead>\n",
              "    <tr style=\"text-align: right;\">\n",
              "      <th></th>\n",
              "      <th>sentence1</th>\n",
              "      <th>sentence2</th>\n",
              "      <th>similarity_score</th>\n",
              "      <th>predicted_score</th>\n",
              "      <th>predicted_score_HF</th>\n",
              "    </tr>\n",
              "  </thead>\n",
              "  <tbody>\n",
              "    <tr>\n",
              "      <th>0</th>\n",
              "      <td>A girl is styling her hair.</td>\n",
              "      <td>A girl is brushing her hair.</td>\n",
              "      <td>2.5</td>\n",
              "      <td>0.477538</td>\n",
              "      <td>0.477538</td>\n",
              "    </tr>\n",
              "    <tr>\n",
              "      <th>1</th>\n",
              "      <td>A group of men play soccer on the beach.</td>\n",
              "      <td>A group of boys are playing soccer on the beach.</td>\n",
              "      <td>3.6</td>\n",
              "      <td>0.837391</td>\n",
              "      <td>0.837391</td>\n",
              "    </tr>\n",
              "    <tr>\n",
              "      <th>2</th>\n",
              "      <td>One woman is measuring another woman's ankle.</td>\n",
              "      <td>A woman measures another woman's ankle.</td>\n",
              "      <td>5.0</td>\n",
              "      <td>0.996481</td>\n",
              "      <td>0.996481</td>\n",
              "    </tr>\n",
              "    <tr>\n",
              "      <th>3</th>\n",
              "      <td>A man is cutting up a cucumber.</td>\n",
              "      <td>A man is slicing a cucumber.</td>\n",
              "      <td>4.2</td>\n",
              "      <td>0.955392</td>\n",
              "      <td>0.955392</td>\n",
              "    </tr>\n",
              "    <tr>\n",
              "      <th>4</th>\n",
              "      <td>A man is playing a harp.</td>\n",
              "      <td>A man is playing a keyboard.</td>\n",
              "      <td>1.5</td>\n",
              "      <td>0.311554</td>\n",
              "      <td>0.311554</td>\n",
              "    </tr>\n",
              "    <tr>\n",
              "      <th>...</th>\n",
              "      <td>...</td>\n",
              "      <td>...</td>\n",
              "      <td>...</td>\n",
              "      <td>...</td>\n",
              "      <td>...</td>\n",
              "    </tr>\n",
              "    <tr>\n",
              "      <th>1374</th>\n",
              "      <td>Philippines, Canada pledge to further boost re...</td>\n",
              "      <td>Philippines saves 100 after ferry sinks</td>\n",
              "      <td>0.0</td>\n",
              "      <td>0.186894</td>\n",
              "      <td>0.186894</td>\n",
              "    </tr>\n",
              "    <tr>\n",
              "      <th>1375</th>\n",
              "      <td>Israel bars Palestinians from Jerusalem's Old ...</td>\n",
              "      <td>Two-state solution between Palestinians, Israe...</td>\n",
              "      <td>1.0</td>\n",
              "      <td>0.105753</td>\n",
              "      <td>0.105753</td>\n",
              "    </tr>\n",
              "    <tr>\n",
              "      <th>1376</th>\n",
              "      <td>How much do you know about Secret Service?</td>\n",
              "      <td>Lawmakers from both sides express outrage at S...</td>\n",
              "      <td>1.0</td>\n",
              "      <td>0.224270</td>\n",
              "      <td>0.224270</td>\n",
              "    </tr>\n",
              "    <tr>\n",
              "      <th>1377</th>\n",
              "      <td>Obama Struggles to Soothe Saudi Fears As Iran ...</td>\n",
              "      <td>Myanmar Struggles to Finalize Voter Lists for ...</td>\n",
              "      <td>0.0</td>\n",
              "      <td>0.002297</td>\n",
              "      <td>0.002297</td>\n",
              "    </tr>\n",
              "    <tr>\n",
              "      <th>1378</th>\n",
              "      <td>South Korea declares end to MERS outbreak</td>\n",
              "      <td>North Korea Delegation Meets With South Korean...</td>\n",
              "      <td>0.0</td>\n",
              "      <td>0.119692</td>\n",
              "      <td>0.119692</td>\n",
              "    </tr>\n",
              "  </tbody>\n",
              "</table>\n",
              "<p>1379 rows × 5 columns</p>\n",
              "</div>\n",
              "      <button class=\"colab-df-convert\" onclick=\"convertToInteractive('df-7a56a0dd-3b5b-4335-9e27-57ab1e23cefe')\"\n",
              "              title=\"Convert this dataframe to an interactive table.\"\n",
              "              style=\"display:none;\">\n",
              "        \n",
              "  <svg xmlns=\"http://www.w3.org/2000/svg\" height=\"24px\"viewBox=\"0 0 24 24\"\n",
              "       width=\"24px\">\n",
              "    <path d=\"M0 0h24v24H0V0z\" fill=\"none\"/>\n",
              "    <path d=\"M18.56 5.44l.94 2.06.94-2.06 2.06-.94-2.06-.94-.94-2.06-.94 2.06-2.06.94zm-11 1L8.5 8.5l.94-2.06 2.06-.94-2.06-.94L8.5 2.5l-.94 2.06-2.06.94zm10 10l.94 2.06.94-2.06 2.06-.94-2.06-.94-.94-2.06-.94 2.06-2.06.94z\"/><path d=\"M17.41 7.96l-1.37-1.37c-.4-.4-.92-.59-1.43-.59-.52 0-1.04.2-1.43.59L10.3 9.45l-7.72 7.72c-.78.78-.78 2.05 0 2.83L4 21.41c.39.39.9.59 1.41.59.51 0 1.02-.2 1.41-.59l7.78-7.78 2.81-2.81c.8-.78.8-2.07 0-2.86zM5.41 20L4 18.59l7.72-7.72 1.47 1.35L5.41 20z\"/>\n",
              "  </svg>\n",
              "      </button>\n",
              "      \n",
              "  <style>\n",
              "    .colab-df-container {\n",
              "      display:flex;\n",
              "      flex-wrap:wrap;\n",
              "      gap: 12px;\n",
              "    }\n",
              "\n",
              "    .colab-df-convert {\n",
              "      background-color: #E8F0FE;\n",
              "      border: none;\n",
              "      border-radius: 50%;\n",
              "      cursor: pointer;\n",
              "      display: none;\n",
              "      fill: #1967D2;\n",
              "      height: 32px;\n",
              "      padding: 0 0 0 0;\n",
              "      width: 32px;\n",
              "    }\n",
              "\n",
              "    .colab-df-convert:hover {\n",
              "      background-color: #E2EBFA;\n",
              "      box-shadow: 0px 1px 2px rgba(60, 64, 67, 0.3), 0px 1px 3px 1px rgba(60, 64, 67, 0.15);\n",
              "      fill: #174EA6;\n",
              "    }\n",
              "\n",
              "    [theme=dark] .colab-df-convert {\n",
              "      background-color: #3B4455;\n",
              "      fill: #D2E3FC;\n",
              "    }\n",
              "\n",
              "    [theme=dark] .colab-df-convert:hover {\n",
              "      background-color: #434B5C;\n",
              "      box-shadow: 0px 1px 3px 1px rgba(0, 0, 0, 0.15);\n",
              "      filter: drop-shadow(0px 1px 2px rgba(0, 0, 0, 0.3));\n",
              "      fill: #FFFFFF;\n",
              "    }\n",
              "  </style>\n",
              "\n",
              "      <script>\n",
              "        const buttonEl =\n",
              "          document.querySelector('#df-7a56a0dd-3b5b-4335-9e27-57ab1e23cefe button.colab-df-convert');\n",
              "        buttonEl.style.display =\n",
              "          google.colab.kernel.accessAllowed ? 'block' : 'none';\n",
              "\n",
              "        async function convertToInteractive(key) {\n",
              "          const element = document.querySelector('#df-7a56a0dd-3b5b-4335-9e27-57ab1e23cefe');\n",
              "          const dataTable =\n",
              "            await google.colab.kernel.invokeFunction('convertToInteractive',\n",
              "                                                     [key], {});\n",
              "          if (!dataTable) return;\n",
              "\n",
              "          const docLinkHtml = 'Like what you see? Visit the ' +\n",
              "            '<a target=\"_blank\" href=https://colab.research.google.com/notebooks/data_table.ipynb>data table notebook</a>'\n",
              "            + ' to learn more about interactive tables.';\n",
              "          element.innerHTML = '';\n",
              "          dataTable['output_type'] = 'display_data';\n",
              "          await google.colab.output.renderOutput(dataTable, element);\n",
              "          const docLink = document.createElement('div');\n",
              "          docLink.innerHTML = docLinkHtml;\n",
              "          element.appendChild(docLink);\n",
              "        }\n",
              "      </script>\n",
              "    </div>\n",
              "  </div>\n",
              "  "
            ]
          },
          "metadata": {},
          "execution_count": 18
        }
      ]
    },
    {
      "cell_type": "markdown",
      "source": [
        "Finally, compute the Spearman's rank correlation coefficient between the \"`similarity_score`\" and the predicted scores columns of the test dataset dataframe."
      ],
      "metadata": {
        "id": "p-ff6fBiwzO4"
      }
    },
    {
      "cell_type": "code",
      "source": [
        "# TODO\n",
        "\n",
        "# given \n",
        "test_dataset_df[[\"similarity_score\",\"predicted_score\"]].corr(method=\"spearman\")"
      ],
      "metadata": {
        "id": "xpCwut0le4Pp",
        "colab": {
          "base_uri": "https://localhost:8080/",
          "height": 112
        },
        "outputId": "2af06812-2dd6-455c-ceca-b4e1e9c5b461"
      },
      "execution_count": 19,
      "outputs": [
        {
          "output_type": "execute_result",
          "data": {
            "text/plain": [
              "                  similarity_score  predicted_score\n",
              "similarity_score          1.000000         0.901726\n",
              "predicted_score           0.901726         1.000000"
            ],
            "text/html": [
              "\n",
              "  <div id=\"df-747b3c69-0bc0-4ff5-8a4e-6a2309d45c97\">\n",
              "    <div class=\"colab-df-container\">\n",
              "      <div>\n",
              "<style scoped>\n",
              "    .dataframe tbody tr th:only-of-type {\n",
              "        vertical-align: middle;\n",
              "    }\n",
              "\n",
              "    .dataframe tbody tr th {\n",
              "        vertical-align: top;\n",
              "    }\n",
              "\n",
              "    .dataframe thead th {\n",
              "        text-align: right;\n",
              "    }\n",
              "</style>\n",
              "<table border=\"1\" class=\"dataframe\">\n",
              "  <thead>\n",
              "    <tr style=\"text-align: right;\">\n",
              "      <th></th>\n",
              "      <th>similarity_score</th>\n",
              "      <th>predicted_score</th>\n",
              "    </tr>\n",
              "  </thead>\n",
              "  <tbody>\n",
              "    <tr>\n",
              "      <th>similarity_score</th>\n",
              "      <td>1.000000</td>\n",
              "      <td>0.901726</td>\n",
              "    </tr>\n",
              "    <tr>\n",
              "      <th>predicted_score</th>\n",
              "      <td>0.901726</td>\n",
              "      <td>1.000000</td>\n",
              "    </tr>\n",
              "  </tbody>\n",
              "</table>\n",
              "</div>\n",
              "      <button class=\"colab-df-convert\" onclick=\"convertToInteractive('df-747b3c69-0bc0-4ff5-8a4e-6a2309d45c97')\"\n",
              "              title=\"Convert this dataframe to an interactive table.\"\n",
              "              style=\"display:none;\">\n",
              "        \n",
              "  <svg xmlns=\"http://www.w3.org/2000/svg\" height=\"24px\"viewBox=\"0 0 24 24\"\n",
              "       width=\"24px\">\n",
              "    <path d=\"M0 0h24v24H0V0z\" fill=\"none\"/>\n",
              "    <path d=\"M18.56 5.44l.94 2.06.94-2.06 2.06-.94-2.06-.94-.94-2.06-.94 2.06-2.06.94zm-11 1L8.5 8.5l.94-2.06 2.06-.94-2.06-.94L8.5 2.5l-.94 2.06-2.06.94zm10 10l.94 2.06.94-2.06 2.06-.94-2.06-.94-.94-2.06-.94 2.06-2.06.94z\"/><path d=\"M17.41 7.96l-1.37-1.37c-.4-.4-.92-.59-1.43-.59-.52 0-1.04.2-1.43.59L10.3 9.45l-7.72 7.72c-.78.78-.78 2.05 0 2.83L4 21.41c.39.39.9.59 1.41.59.51 0 1.02-.2 1.41-.59l7.78-7.78 2.81-2.81c.8-.78.8-2.07 0-2.86zM5.41 20L4 18.59l7.72-7.72 1.47 1.35L5.41 20z\"/>\n",
              "  </svg>\n",
              "      </button>\n",
              "      \n",
              "  <style>\n",
              "    .colab-df-container {\n",
              "      display:flex;\n",
              "      flex-wrap:wrap;\n",
              "      gap: 12px;\n",
              "    }\n",
              "\n",
              "    .colab-df-convert {\n",
              "      background-color: #E8F0FE;\n",
              "      border: none;\n",
              "      border-radius: 50%;\n",
              "      cursor: pointer;\n",
              "      display: none;\n",
              "      fill: #1967D2;\n",
              "      height: 32px;\n",
              "      padding: 0 0 0 0;\n",
              "      width: 32px;\n",
              "    }\n",
              "\n",
              "    .colab-df-convert:hover {\n",
              "      background-color: #E2EBFA;\n",
              "      box-shadow: 0px 1px 2px rgba(60, 64, 67, 0.3), 0px 1px 3px 1px rgba(60, 64, 67, 0.15);\n",
              "      fill: #174EA6;\n",
              "    }\n",
              "\n",
              "    [theme=dark] .colab-df-convert {\n",
              "      background-color: #3B4455;\n",
              "      fill: #D2E3FC;\n",
              "    }\n",
              "\n",
              "    [theme=dark] .colab-df-convert:hover {\n",
              "      background-color: #434B5C;\n",
              "      box-shadow: 0px 1px 3px 1px rgba(0, 0, 0, 0.15);\n",
              "      filter: drop-shadow(0px 1px 2px rgba(0, 0, 0, 0.3));\n",
              "      fill: #FFFFFF;\n",
              "    }\n",
              "  </style>\n",
              "\n",
              "      <script>\n",
              "        const buttonEl =\n",
              "          document.querySelector('#df-747b3c69-0bc0-4ff5-8a4e-6a2309d45c97 button.colab-df-convert');\n",
              "        buttonEl.style.display =\n",
              "          google.colab.kernel.accessAllowed ? 'block' : 'none';\n",
              "\n",
              "        async function convertToInteractive(key) {\n",
              "          const element = document.querySelector('#df-747b3c69-0bc0-4ff5-8a4e-6a2309d45c97');\n",
              "          const dataTable =\n",
              "            await google.colab.kernel.invokeFunction('convertToInteractive',\n",
              "                                                     [key], {});\n",
              "          if (!dataTable) return;\n",
              "\n",
              "          const docLinkHtml = 'Like what you see? Visit the ' +\n",
              "            '<a target=\"_blank\" href=https://colab.research.google.com/notebooks/data_table.ipynb>data table notebook</a>'\n",
              "            + ' to learn more about interactive tables.';\n",
              "          element.innerHTML = '';\n",
              "          dataTable['output_type'] = 'display_data';\n",
              "          await google.colab.output.renderOutput(dataTable, element);\n",
              "          const docLink = document.createElement('div');\n",
              "          docLink.innerHTML = docLinkHtml;\n",
              "          element.appendChild(docLink);\n",
              "        }\n",
              "      </script>\n",
              "    </div>\n",
              "  </div>\n",
              "  "
            ]
          },
          "metadata": {},
          "execution_count": 19
        }
      ]
    },
    {
      "cell_type": "code",
      "source": [
        "# predicted\n",
        "test_dataset_df[[\"similarity_score\",\"predicted_score_HF\"]].corr(method=\"spearman\")"
      ],
      "metadata": {
        "colab": {
          "base_uri": "https://localhost:8080/",
          "height": 112
        },
        "id": "C3Su3VsvPE0O",
        "outputId": "3e8bcd58-e21a-41f9-ae6b-657ac5d7945c"
      },
      "execution_count": 20,
      "outputs": [
        {
          "output_type": "execute_result",
          "data": {
            "text/plain": [
              "                    similarity_score  predicted_score_HF\n",
              "similarity_score            1.000000            0.901726\n",
              "predicted_score_HF          0.901726            1.000000"
            ],
            "text/html": [
              "\n",
              "  <div id=\"df-0d34007c-8000-4a7b-8dd5-4fbcf1efdbc2\">\n",
              "    <div class=\"colab-df-container\">\n",
              "      <div>\n",
              "<style scoped>\n",
              "    .dataframe tbody tr th:only-of-type {\n",
              "        vertical-align: middle;\n",
              "    }\n",
              "\n",
              "    .dataframe tbody tr th {\n",
              "        vertical-align: top;\n",
              "    }\n",
              "\n",
              "    .dataframe thead th {\n",
              "        text-align: right;\n",
              "    }\n",
              "</style>\n",
              "<table border=\"1\" class=\"dataframe\">\n",
              "  <thead>\n",
              "    <tr style=\"text-align: right;\">\n",
              "      <th></th>\n",
              "      <th>similarity_score</th>\n",
              "      <th>predicted_score_HF</th>\n",
              "    </tr>\n",
              "  </thead>\n",
              "  <tbody>\n",
              "    <tr>\n",
              "      <th>similarity_score</th>\n",
              "      <td>1.000000</td>\n",
              "      <td>0.901726</td>\n",
              "    </tr>\n",
              "    <tr>\n",
              "      <th>predicted_score_HF</th>\n",
              "      <td>0.901726</td>\n",
              "      <td>1.000000</td>\n",
              "    </tr>\n",
              "  </tbody>\n",
              "</table>\n",
              "</div>\n",
              "      <button class=\"colab-df-convert\" onclick=\"convertToInteractive('df-0d34007c-8000-4a7b-8dd5-4fbcf1efdbc2')\"\n",
              "              title=\"Convert this dataframe to an interactive table.\"\n",
              "              style=\"display:none;\">\n",
              "        \n",
              "  <svg xmlns=\"http://www.w3.org/2000/svg\" height=\"24px\"viewBox=\"0 0 24 24\"\n",
              "       width=\"24px\">\n",
              "    <path d=\"M0 0h24v24H0V0z\" fill=\"none\"/>\n",
              "    <path d=\"M18.56 5.44l.94 2.06.94-2.06 2.06-.94-2.06-.94-.94-2.06-.94 2.06-2.06.94zm-11 1L8.5 8.5l.94-2.06 2.06-.94-2.06-.94L8.5 2.5l-.94 2.06-2.06.94zm10 10l.94 2.06.94-2.06 2.06-.94-2.06-.94-.94-2.06-.94 2.06-2.06.94z\"/><path d=\"M17.41 7.96l-1.37-1.37c-.4-.4-.92-.59-1.43-.59-.52 0-1.04.2-1.43.59L10.3 9.45l-7.72 7.72c-.78.78-.78 2.05 0 2.83L4 21.41c.39.39.9.59 1.41.59.51 0 1.02-.2 1.41-.59l7.78-7.78 2.81-2.81c.8-.78.8-2.07 0-2.86zM5.41 20L4 18.59l7.72-7.72 1.47 1.35L5.41 20z\"/>\n",
              "  </svg>\n",
              "      </button>\n",
              "      \n",
              "  <style>\n",
              "    .colab-df-container {\n",
              "      display:flex;\n",
              "      flex-wrap:wrap;\n",
              "      gap: 12px;\n",
              "    }\n",
              "\n",
              "    .colab-df-convert {\n",
              "      background-color: #E8F0FE;\n",
              "      border: none;\n",
              "      border-radius: 50%;\n",
              "      cursor: pointer;\n",
              "      display: none;\n",
              "      fill: #1967D2;\n",
              "      height: 32px;\n",
              "      padding: 0 0 0 0;\n",
              "      width: 32px;\n",
              "    }\n",
              "\n",
              "    .colab-df-convert:hover {\n",
              "      background-color: #E2EBFA;\n",
              "      box-shadow: 0px 1px 2px rgba(60, 64, 67, 0.3), 0px 1px 3px 1px rgba(60, 64, 67, 0.15);\n",
              "      fill: #174EA6;\n",
              "    }\n",
              "\n",
              "    [theme=dark] .colab-df-convert {\n",
              "      background-color: #3B4455;\n",
              "      fill: #D2E3FC;\n",
              "    }\n",
              "\n",
              "    [theme=dark] .colab-df-convert:hover {\n",
              "      background-color: #434B5C;\n",
              "      box-shadow: 0px 1px 3px 1px rgba(0, 0, 0, 0.15);\n",
              "      filter: drop-shadow(0px 1px 2px rgba(0, 0, 0, 0.3));\n",
              "      fill: #FFFFFF;\n",
              "    }\n",
              "  </style>\n",
              "\n",
              "      <script>\n",
              "        const buttonEl =\n",
              "          document.querySelector('#df-0d34007c-8000-4a7b-8dd5-4fbcf1efdbc2 button.colab-df-convert');\n",
              "        buttonEl.style.display =\n",
              "          google.colab.kernel.accessAllowed ? 'block' : 'none';\n",
              "\n",
              "        async function convertToInteractive(key) {\n",
              "          const element = document.querySelector('#df-0d34007c-8000-4a7b-8dd5-4fbcf1efdbc2');\n",
              "          const dataTable =\n",
              "            await google.colab.kernel.invokeFunction('convertToInteractive',\n",
              "                                                     [key], {});\n",
              "          if (!dataTable) return;\n",
              "\n",
              "          const docLinkHtml = 'Like what you see? Visit the ' +\n",
              "            '<a target=\"_blank\" href=https://colab.research.google.com/notebooks/data_table.ipynb>data table notebook</a>'\n",
              "            + ' to learn more about interactive tables.';\n",
              "          element.innerHTML = '';\n",
              "          dataTable['output_type'] = 'display_data';\n",
              "          await google.colab.output.renderOutput(dataTable, element);\n",
              "          const docLink = document.createElement('div');\n",
              "          docLink.innerHTML = docLinkHtml;\n",
              "          element.appendChild(docLink);\n",
              "        }\n",
              "      </script>\n",
              "    </div>\n",
              "  </div>\n",
              "  "
            ]
          },
          "metadata": {},
          "execution_count": 20
        }
      ]
    },
    {
      "cell_type": "markdown",
      "source": [
        "## Assignment\n",
        "\n",
        "**Q1**: Did your implementation produce the same results as the implementation in **`sentence-transformers`**?\n",
        "\n",
        "**Answer**: yes\n",
        "\n",
        "**Q2**: If not, could you explain the reasons for any differences observed?\n",
        "\n",
        "**Answer**: "
      ],
      "metadata": {
        "id": "_VL5luZTNuad"
      }
    }
  ]
}